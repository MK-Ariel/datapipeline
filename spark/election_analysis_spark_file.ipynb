{
 "cells": [
  {
   "cell_type": "code",
   "execution_count": 3,
   "metadata": {},
   "outputs": [],
   "source": [
    "import pandas as pd\n",
    "from pyspark import SparkContext"
   ]
  },
  {
   "cell_type": "code",
   "execution_count": 4,
   "metadata": {},
   "outputs": [
    {
     "name": "stdout",
     "output_type": "stream",
     "text": [
      "23/01/04 18:13:25 WARN Utils: Your hostname, ak-HP-EliteBook-820-G2 resolves to a loopback address: 127.0.1.1; using 192.168.1.73 instead (on interface wlo1)\n",
      "23/01/04 18:13:25 WARN Utils: Set SPARK_LOCAL_IP if you need to bind to another address\n"
     ]
    },
    {
     "name": "stderr",
     "output_type": "stream",
     "text": [
      "Setting default log level to \"WARN\".\n",
      "To adjust logging level use sc.setLogLevel(newLevel). For SparkR, use setLogLevel(newLevel).\n"
     ]
    },
    {
     "name": "stdout",
     "output_type": "stream",
     "text": [
      "23/01/04 18:13:26 WARN NativeCodeLoader: Unable to load native-hadoop library for your platform... using builtin-java classes where applicable\n"
     ]
    }
   ],
   "source": [
    "from pyspark.sql import SparkSession\n",
    "spark = SparkSession.builder.appName(\"spark_session\").getOrCreate()"
   ]
  },
  {
   "cell_type": "code",
   "execution_count": 14,
   "metadata": {},
   "outputs": [],
   "source": [
    "sc = SparkContext.getOrCreate()"
   ]
  },
  {
   "cell_type": "code",
   "execution_count": 24,
   "metadata": {},
   "outputs": [],
   "source": [
    "spark.conf.set(\"spark.sql.repl.eagerEval.enabled\", True) # Property used to format output tables better\n",
    "     "
   ]
  },
  {
   "cell_type": "code",
   "execution_count": 6,
   "metadata": {},
   "outputs": [
    {
     "data": {
      "text/plain": [
       "'/home/ak/Desktop/data_plp'"
      ]
     },
     "execution_count": 6,
     "metadata": {},
     "output_type": "execute_result"
    }
   ],
   "source": [
    "import os\n",
    "os.getcwd()"
   ]
  },
  {
   "cell_type": "code",
   "execution_count": 7,
   "metadata": {},
   "outputs": [],
   "source": [
    "df_dep = spark.read.csv(\"p2022-res-dep-t1.csv\", header=True, inferSchema=True)\n",
    "df_reg = spark.read.csv(\"p2022-res-reg-t1.csv\", header=True, inferSchema=True)"
   ]
  },
  {
   "cell_type": "code",
   "execution_count": 30,
   "metadata": {},
   "outputs": [
    {
     "data": {
      "text/html": [
       "<table border='1'>\n",
       "<tr><th>CodeDépartement</th><th>Département</th><th>Inscrits</th><th>Abstentions</th><th>Abstentions_ins</th><th>Votants</th><th>Votants_ins</th><th>Blancs</th><th>Blancs_ins</th><th>Blancs_vot</th><th>Nuls</th><th>Nuls_ins</th><th>Nuls_vot</th><th>Exprimés</th><th>Exprimés_ins</th><th>Exprimés_vot</th><th>ARTHAUD</th><th>ROUSSEL</th><th>MACRON</th><th>LASSALLE</th><th>LE PEN</th><th>ZEMMOUR</th><th>MÉLENCHON</th><th>HIDALGO</th><th>JADOT</th><th>PÉCRESSE</th><th>POUTOU</th><th>DUPONT-AIGNAN</th><th>ARTHAUD.ins</th><th>ROUSSEL.ins</th><th>MACRON.ins</th><th>LASSALLE.ins</th><th>LE PEN.ins</th><th>ZEMMOUR.ins</th><th>MÉLENCHON.ins</th><th>HIDALGO.ins</th><th>JADOT.ins</th><th>PÉCRESSE.ins</th><th>POUTOU.ins</th><th>DUPONT-AIGNAN.ins</th><th>ARTHAUD.exp</th><th>ROUSSEL.exp</th><th>MACRON.exp</th><th>LASSALLE.exp</th><th>LE PEN.exp</th><th>ZEMMOUR.exp</th><th>MÉLENCHON.exp</th><th>HIDALGO.exp</th><th>JADOT.exp</th><th>PÉCRESSE.exp</th><th>POUTOU.exp</th><th>DUPONT-AIGNAN.exp</th></tr>\n",
       "<tr><td>01</td><td>Ain</td><td>438109</td><td>97541</td><td>22.26409409530505</td><td>340568</td><td>77.73590590469495</td><td>5641</td><td>1.287579118438562</td><td>1.65635056728759</td><td>1903</td><td>0.434366789999749</td><td>0.558772403749031</td><td>333024</td><td>76.01395999625665</td><td>97.78487702896338</td><td>1658</td><td>5938</td><td>92206</td><td>10876</td><td>86755</td><td>27530</td><td>57832</td><td>5644</td><td>15843</td><td>17572</td><td>2172</td><td>8998</td><td>0.37844463364139974</td><td>1.3553704671668465</td><td>21.046360608889568</td><td>2.48248723491186</td><td>19.802149693341157</td><td>6.283824345083073</td><td>13.200367944963467</td><td>1.2882638795368277</td><td>3.6162233599401064</td><td>4.010874006240456</td><td>0.4957670351442221</td><td>2.053826787397657</td><td>0.4978620159508024</td><td>1.7830546747381568</td><td>27.687493994426827</td><td>3.265830690881138</td><td>26.050675026424525</td><td>8.266671471125205</td><td>17.36571538387624</td><td>1.694772749111175</td><td>4.757314788123378</td><td>5.276496588834438</td><td>0.652205246468723</td><td>2.7019073700393967</td></tr>\n",
       "<tr><td>02</td><td>Aisne</td><td>373544</td><td>101089</td><td>27.06213993532221</td><td>272455</td><td>72.93786006467778</td><td>3767</td><td>1.008448803889234</td><td>1.3826136426198823</td><td>2828</td><td>0.7570727946373118</td><td>1.037969572957002</td><td>265860</td><td>71.17233846615125</td><td>97.57941678442312</td><td>2038</td><td>5968</td><td>58721</td><td>6468</td><td>104342</td><td>18266</td><td>41172</td><td>2983</td><td>7074</td><td>10920</td><td>2118</td><td>5790</td><td>0.545584991326323</td><td>1.597669886278457</td><td>15.71996873192984</td><td>1.7315229263487033</td><td>27.932987814019235</td><td>4.88991925984623</td><td>11.021994731544343</td><td>0.798567237059088</td><td>1.8937528109138415</td><td>2.9233503951341744</td><td>0.5670014777375624</td><td>1.5500182040134496</td><td>0.7665688708342736</td><td>2.244790491235989</td><td>22.087188745956517</td><td>2.432859399684044</td><td>39.24697209057398</td><td>6.870533363424358</td><td>15.48634619724667</td><td>1.1220191078010984</td><td>2.6607989167230874</td><td>4.107424960505529</td><td>0.7966598961859626</td><td>2.177837959828481</td></tr>\n",
       "<tr><td>03</td><td>Allier</td><td>249991</td><td>58497</td><td>23.399642387125937</td><td>191494</td><td>76.60035761287406</td><td>3749</td><td>1.4996539875435515</td><td>1.95776368972396</td><td>1790</td><td>0.7160257769279694</td><td>0.9347551359311519</td><td>185955</td><td>74.38467784840255</td><td>97.10748117434488</td><td>1359</td><td>8119</td><td>49706</td><td>7782</td><td>50315</td><td>12361</td><td>31013</td><td>3280</td><td>5982</td><td>10319</td><td>1503</td><td>4216</td><td>0.543619570304531</td><td>3.2477169178090413</td><td>19.883115792168518</td><td>3.112912064834334</td><td>20.126724562084235</td><td>4.9445780048081724</td><td>12.405646603277717</td><td>1.3120472337004132</td><td>2.3928861439011806</td><td>4.127748598949562</td><td>0.6012216439791832</td><td>1.686460712585653</td><td>0.7308219730579979</td><td>4.366110080395795</td><td>26.730122879191203</td><td>4.184883439541824</td><td>27.057621467559358</td><td>6.647307144201554</td><td>16.677690839181523</td><td>1.763867602376919</td><td>3.216907316286198</td><td>5.549192008819339</td><td>0.808260062918448</td><td>2.267215186469845</td></tr>\n",
       "<tr><td>04</td><td>Alpes-de-Haute-Pr...</td><td>128075</td><td>29290</td><td>22.869412453640443</td><td>98785</td><td>77.13058754635955</td><td>1478</td><td>1.1540113214913137</td><td>1.4961785696208938</td><td>624</td><td>0.4872145227405817</td><td>0.6316748494204586</td><td>96683</td><td>75.48936170212765</td><td>97.87214658095866</td><td>505</td><td>2721</td><td>20800</td><td>4309</td><td>26010</td><td>7926</td><td>21856</td><td>1396</td><td>3957</td><td>3834</td><td>865</td><td>2504</td><td>0.3943002147179387</td><td>2.1245364044505175</td><td>16.240484091352723</td><td>3.364434901424947</td><td>20.308413039234825</td><td>6.188561389810658</td><td>17.06500097599063</td><td>1.0899863361311732</td><td>3.0895959398789774</td><td>2.9935584618387665</td><td>0.6753855162990435</td><td>1.9551044309974626</td><td>0.522325538098735</td><td>2.814352057755759</td><td>21.513606321690474</td><td>4.456833155777128</td><td>26.90235098207544</td><td>8.197925178159553</td><td>22.605835565714756</td><td>1.443893962744226</td><td>4.092756741102366</td><td>3.965536857565446</td><td>0.8946764167433778</td><td>2.5899072225727378</td></tr>\n",
       "<tr><td>05</td><td>Hautes-Alpes</td><td>113519</td><td>25357</td><td>22.337229891031456</td><td>88162</td><td>77.66277010896854</td><td>1395</td><td>1.2288691760850607</td><td>1.5823143758081712</td><td>532</td><td>0.46864401553924895</td><td>0.6034345863297111</td><td>86235</td><td>75.96525691734423</td><td>97.81425103786212</td><td>428</td><td>1925</td><td>20507</td><td>3871</td><td>19696</td><td>6164</td><td>19718</td><td>1459</td><td>5013</td><td>4511</td><td>801</td><td>2142</td><td>0.3770293959601477</td><td>1.6957513720170192</td><td>18.064817343352214</td><td>3.4100018499105875</td><td>17.35039949259595</td><td>5.429928029669042</td><td>17.36977950827615</td><td>1.2852474035183536</td><td>4.416000845673412</td><td>3.973784124243519</td><td>0.7056087527198089</td><td>1.8869087994080287</td><td>0.496318200266713</td><td>2.2322722792369687</td><td>23.780367600162347</td><td>4.488896619701977</td><td>22.83991418797472</td><td>7.14790978141126</td><td>22.865425871166</td><td>1.6918884443671363</td><td>5.813184901722038</td><td>5.2310546761755665</td><td>0.9288571925552269</td><td>2.483910245260045</td></tr>\n",
       "</table>\n"
      ],
      "text/plain": [
       "+---------------+--------------------+--------+-----------+------------------+-------+-----------------+------+------------------+------------------+----+-------------------+------------------+--------+-----------------+-----------------+-------+-------+------+--------+------+-------+---------+-------+-----+--------+------+-------------+-------------------+------------------+------------------+------------------+------------------+------------------+------------------+------------------+------------------+------------------+------------------+------------------+------------------+------------------+------------------+-----------------+------------------+-----------------+------------------+------------------+------------------+------------------+------------------+------------------+\n",
       "|CodeDépartement|         Département|Inscrits|Abstentions|   Abstentions_ins|Votants|      Votants_ins|Blancs|        Blancs_ins|        Blancs_vot|Nuls|           Nuls_ins|          Nuls_vot|Exprimés|     Exprimés_ins|     Exprimés_vot|ARTHAUD|ROUSSEL|MACRON|LASSALLE|LE PEN|ZEMMOUR|MÉLENCHON|HIDALGO|JADOT|PÉCRESSE|POUTOU|DUPONT-AIGNAN|        ARTHAUD.ins|       ROUSSEL.ins|        MACRON.ins|      LASSALLE.ins|        LE PEN.ins|       ZEMMOUR.ins|     MÉLENCHON.ins|       HIDALGO.ins|         JADOT.ins|      PÉCRESSE.ins|        POUTOU.ins| DUPONT-AIGNAN.ins|       ARTHAUD.exp|       ROUSSEL.exp|        MACRON.exp|     LASSALLE.exp|        LE PEN.exp|      ZEMMOUR.exp|     MÉLENCHON.exp|       HIDALGO.exp|         JADOT.exp|      PÉCRESSE.exp|        POUTOU.exp| DUPONT-AIGNAN.exp|\n",
       "+---------------+--------------------+--------+-----------+------------------+-------+-----------------+------+------------------+------------------+----+-------------------+------------------+--------+-----------------+-----------------+-------+-------+------+--------+------+-------+---------+-------+-----+--------+------+-------------+-------------------+------------------+------------------+------------------+------------------+------------------+------------------+------------------+------------------+------------------+------------------+------------------+------------------+------------------+------------------+-----------------+------------------+-----------------+------------------+------------------+------------------+------------------+------------------+------------------+\n",
       "|             01|                 Ain|  438109|      97541| 22.26409409530505| 340568|77.73590590469495|  5641| 1.287579118438562|  1.65635056728759|1903|  0.434366789999749| 0.558772403749031|  333024|76.01395999625665|97.78487702896338|   1658|   5938| 92206|   10876| 86755|  27530|    57832|   5644|15843|   17572|  2172|         8998|0.37844463364139974|1.3553704671668465|21.046360608889568|  2.48248723491186|19.802149693341157| 6.283824345083073|13.200367944963467|1.2882638795368277|3.6162233599401064| 4.010874006240456|0.4957670351442221| 2.053826787397657|0.4978620159508024|1.7830546747381568|27.687493994426827|3.265830690881138|26.050675026424525|8.266671471125205| 17.36571538387624| 1.694772749111175| 4.757314788123378| 5.276496588834438| 0.652205246468723|2.7019073700393967|\n",
       "|             02|               Aisne|  373544|     101089| 27.06213993532221| 272455|72.93786006467778|  3767| 1.008448803889234|1.3826136426198823|2828| 0.7570727946373118| 1.037969572957002|  265860|71.17233846615125|97.57941678442312|   2038|   5968| 58721|    6468|104342|  18266|    41172|   2983| 7074|   10920|  2118|         5790|  0.545584991326323| 1.597669886278457| 15.71996873192984|1.7315229263487033|27.932987814019235|  4.88991925984623|11.021994731544343| 0.798567237059088|1.8937528109138415|2.9233503951341744|0.5670014777375624|1.5500182040134496|0.7665688708342736| 2.244790491235989|22.087188745956517|2.432859399684044| 39.24697209057398|6.870533363424358| 15.48634619724667|1.1220191078010984|2.6607989167230874| 4.107424960505529|0.7966598961859626| 2.177837959828481|\n",
       "|             03|              Allier|  249991|      58497|23.399642387125937| 191494|76.60035761287406|  3749|1.4996539875435515|  1.95776368972396|1790| 0.7160257769279694|0.9347551359311519|  185955|74.38467784840255|97.10748117434488|   1359|   8119| 49706|    7782| 50315|  12361|    31013|   3280| 5982|   10319|  1503|         4216|  0.543619570304531|3.2477169178090413|19.883115792168518| 3.112912064834334|20.126724562084235|4.9445780048081724|12.405646603277717|1.3120472337004132|2.3928861439011806| 4.127748598949562|0.6012216439791832| 1.686460712585653|0.7308219730579979| 4.366110080395795|26.730122879191203|4.184883439541824|27.057621467559358|6.647307144201554|16.677690839181523| 1.763867602376919| 3.216907316286198| 5.549192008819339| 0.808260062918448| 2.267215186469845|\n",
       "|             04|Alpes-de-Haute-Pr...|  128075|      29290|22.869412453640443|  98785|77.13058754635955|  1478|1.1540113214913137|1.4961785696208938| 624| 0.4872145227405817|0.6316748494204586|   96683|75.48936170212765|97.87214658095866|    505|   2721| 20800|    4309| 26010|   7926|    21856|   1396| 3957|    3834|   865|         2504| 0.3943002147179387|2.1245364044505175|16.240484091352723| 3.364434901424947|20.308413039234825| 6.188561389810658| 17.06500097599063|1.0899863361311732|3.0895959398789774|2.9935584618387665|0.6753855162990435|1.9551044309974626| 0.522325538098735| 2.814352057755759|21.513606321690474|4.456833155777128| 26.90235098207544|8.197925178159553|22.605835565714756| 1.443893962744226| 4.092756741102366| 3.965536857565446|0.8946764167433778|2.5899072225727378|\n",
       "|             05|        Hautes-Alpes|  113519|      25357|22.337229891031456|  88162|77.66277010896854|  1395|1.2288691760850607|1.5823143758081712| 532|0.46864401553924895|0.6034345863297111|   86235|75.96525691734423|97.81425103786212|    428|   1925| 20507|    3871| 19696|   6164|    19718|   1459| 5013|    4511|   801|         2142| 0.3770293959601477|1.6957513720170192|18.064817343352214|3.4100018499105875| 17.35039949259595| 5.429928029669042| 17.36977950827615|1.2852474035183536| 4.416000845673412| 3.973784124243519|0.7056087527198089|1.8869087994080287| 0.496318200266713|2.2322722792369687|23.780367600162347|4.488896619701977| 22.83991418797472| 7.14790978141126|   22.865425871166|1.6918884443671363| 5.813184901722038|5.2310546761755665|0.9288571925552269| 2.483910245260045|\n",
       "+---------------+--------------------+--------+-----------+------------------+-------+-----------------+------+------------------+------------------+----+-------------------+------------------+--------+-----------------+-----------------+-------+-------+------+--------+------+-------+---------+-------+-----+--------+------+-------------+-------------------+------------------+------------------+------------------+------------------+------------------+------------------+------------------+------------------+------------------+------------------+------------------+------------------+------------------+------------------+-----------------+------------------+-----------------+------------------+------------------+------------------+------------------+------------------+------------------+"
      ]
     },
     "execution_count": 30,
     "metadata": {},
     "output_type": "execute_result"
    }
   ],
   "source": [
    "df_dep.limit(5)"
   ]
  },
  {
   "cell_type": "code",
   "execution_count": 29,
   "metadata": {},
   "outputs": [
    {
     "data": {
      "text/html": [
       "<table border='1'>\n",
       "<tr><th>CodeRégion</th><th>Région</th><th>Inscrits</th><th>Abstentions</th><th>Abstentions_ins</th><th>Votants</th><th>Votants_ins</th><th>Blancs</th><th>Blancs_ins</th><th>Blancs_vot</th><th>Nuls</th><th>Nuls_ins</th><th>Nuls_vot</th><th>Exprimés</th><th>Exprimés_ins</th><th>Exprimés_vot</th><th>ARTHAUD</th><th>ROUSSEL</th><th>MACRON</th><th>LASSALLE</th><th>LE PEN</th><th>ZEMMOUR</th><th>MÉLENCHON</th><th>HIDALGO</th><th>JADOT</th><th>PÉCRESSE</th><th>POUTOU</th><th>DUPONT-AIGNAN</th><th>ARTHAUD.ins</th><th>ROUSSEL.ins</th><th>MACRON.ins</th><th>LASSALLE.ins</th><th>LE PEN.ins</th><th>ZEMMOUR.ins</th><th>MÉLENCHON.ins</th><th>HIDALGO.ins</th><th>JADOT.ins</th><th>PÉCRESSE.ins</th><th>POUTOU.ins</th><th>DUPONT-AIGNAN.ins</th><th>ARTHAUD.exp</th><th>ROUSSEL.exp</th><th>MACRON.exp</th><th>LASSALLE.exp</th><th>LE PEN.exp</th><th>ZEMMOUR.exp</th><th>MÉLENCHON.exp</th><th>HIDALGO.exp</th><th>JADOT.exp</th><th>PÉCRESSE.exp</th><th>POUTOU.exp</th><th>DUPONT-AIGNAN.exp</th></tr>\n",
       "<tr><td>44</td><td>Grand Est</td><td>3862920</td><td>1008344</td><td>26.10315512617398</td><td>2854576</td><td>73.89684487382601</td><td>42255</td><td>1.0938616383461215</td><td>1.480254860967093</td><td>18647</td><td>0.4827177368415603</td><td>0.653231863506174</td><td>2793674</td><td>72.32026549863834</td><td>97.86651327552673</td><td>18655</td><td>47422</td><td>762241</td><td>77439</td><td>825196</td><td>200256</td><td>492408</td><td>40030</td><td>111953</td><td>120917</td><td>22241</td><td>74916</td><td>0.48292483406335107</td><td>1.227620556470235</td><td>19.73224917937726</td><td>2.0046752197819266</td><td>21.361974879106995</td><td>5.184057655866547</td><td>12.747041098443665</td><td>1.0362627235355637</td><td>2.8981444088927546</td><td>3.1301968459093126</td><td>0.5757561637310635</td><td>1.9393619334596626</td><td>0.6677586575956965</td><td>1.6974779448138904</td><td>27.284536420498597</td><td>2.7719411785340737</td><td>29.538020542124816</td><td>7.168195000561985</td><td>17.625821767321455</td><td>1.432880142779723</td><td>4.007375234189816</td><td>4.328243023344886</td><td>0.796120091320605</td><td>2.6816299969144577</td></tr>\n",
       "<tr><td>75</td><td>Nouvelle-Aquitaine</td><td>4463041</td><td>962499</td><td>21.5659905432193</td><td>3500542</td><td>78.4340094567807</td><td>53440</td><td>1.1973898514488217</td><td>1.5266207347319358</td><td>27129</td><td>0.6078590808374829</td><td>0.7749942723155443</td><td>3419973</td><td>76.6287605244944</td><td>97.69838499295253</td><td>18494</td><td>96771</td><td>945122</td><td>201726</td><td>779699</td><td>210476</td><td>681218</td><td>77306</td><td>151714</td><td>157205</td><td>32597</td><td>67645</td><td>0.41438113609084026</td><td>2.168274949748389</td><td>21.17663718527345</td><td>4.519922626747099</td><td>17.470128551362176</td><td>4.7159772899240675</td><td>15.263538918867203</td><td>1.7321373476067103</td><td>3.3993413907692087</td><td>3.522374094255464</td><td>0.7303764406376728</td><td>1.515670593212117</td><td>0.5407645031115743</td><td>2.8295837423277903</td><td>27.635364372759668</td><td>5.898467619481206</td><td>22.798396361608702</td><td>6.154317592565789</td><td>19.918812224540954</td><td>2.2604272022030583</td><td>4.436116893320503</td><td>4.596673716429925</td><td>0.9531361797300739</td><td>1.9779395919207547</td></tr>\n",
       "<tr><td>84</td><td>Auvergne-Rhône-Alpes</td><td>5557535</td><td>1228490</td><td>22.104944008449788</td><td>4329045</td><td>77.89505599155021</td><td>70067</td><td>1.260756792354884</td><td>1.6185324938872199</td><td>25512</td><td>0.45905243961576486</td><td>0.5893216633229731</td><td>4233466</td><td>76.17524675957957</td><td>97.79214584278981</td><td>23136</td><td>96403</td><td>1174972</td><td>136414</td><td>943122</td><td>312881</td><td>897349</td><td>77566</td><td>224710</td><td>217881</td><td>30586</td><td>98446</td><td>0.41629967242671434</td><td>1.734635949211296</td><td>21.141963118540865</td><td>2.4545774340602446</td><td>16.97014953572042</td><td>5.629852083702577</td><td>16.14652899172025</td><td>1.3956907153981037</td><td>4.043339358186678</td><td>3.9204611396959264</td><td>0.5503519096146043</td><td>1.7713968513018812</td><td>0.5465025584237597</td><td>2.277164857353289</td><td>27.75437431173417</td><td>3.222276971162636</td><td>22.277774287073523</td><td>7.390658151028023</td><td>21.196556202411923</td><td>1.832210297661538</td><td>5.3079438927819425</td><td>5.146633987375829</td><td>0.7224812954680633</td><td>2.3254231875253044</td></tr>\n",
       "<tr><td>27</td><td>Bourgogne-Franche...</td><td>1992409</td><td>456682</td><td>22.921097023753656</td><td>1535727</td><td>77.07890297624634</td><td>26392</td><td>1.3246276241474517</td><td>1.7185346093413738</td><td>11621</td><td>0.5832637776681394</td><td>0.756710014214766</td><td>1497714</td><td>75.17101157443076</td><td>97.52475537644386</td><td>10643</td><td>33932</td><td>394119</td><td>49557</td><td>409643</td><td>107057</td><td>277901</td><td>26543</td><td>60235</td><td>76655</td><td>12738</td><td>38691</td><td>0.534177470589623</td><td>1.7030639793335607</td><td>19.781028895171623</td><td>2.4872905111350128</td><td>20.560186186671512</td><td>5.373244148164358</td><td>13.947989594505946</td><td>1.332206389350781</td><td>3.023224649155871</td><td>3.8473526268953813</td><td>0.6393265639735617</td><td>1.9419205594835196</td><td>0.7106163125937262</td><td>2.265586086529204</td><td>26.31470360829905</td><td>3.308842676238587</td><td>27.35121658741255</td><td>7.148026926369119</td><td>18.55501117035696</td><td>1.7722342182819952</td><td>4.021795883593263</td><td>5.11813336858706</td><td>0.8504961561419604</td><td>2.5833370055965292</td></tr>\n",
       "<tr><td>53</td><td>Bretagne</td><td>2562061</td><td>543414</td><td>21.21003364088521</td><td>2018647</td><td>78.7899663591148</td><td>31884</td><td>1.244466856956177</td><td>1.5794737762471596</td><td>13245</td><td>0.5169666139877233</td><td>0.6561325481869786</td><td>1973518</td><td>77.02853288817089</td><td>97.76439367556587</td><td>12965</td><td>51193</td><td>647172</td><td>58653</td><td>385393</td><td>96984</td><td>407527</td><td>43596</td><td>122198</td><td>92808</td><td>19913</td><td>35116</td><td>0.5060379124462688</td><td>1.9981179214702538</td><td>25.259820121378844</td><td>2.289289755396144</td><td>15.04230383273466</td><td>3.7853899653443066</td><td>15.906217689586628</td><td>1.7015988300044378</td><td>4.7695195391522685</td><td>3.622396188068902</td><td>0.777225834982071</td><td>1.370615297606107</td><td>0.6569486571695825</td><td>2.5939971158104465</td><td>32.79280959180509</td><td>2.97200228221886</td><td>19.528223203436706</td><td>4.91426984704472</td><td>20.64977365293856</td><td>2.20905003146665</td><td>6.19188677275809</td><td>4.702668027350143</td><td>1.0090103054545234</td><td>1.7793605125466299</td></tr>\n",
       "</table>\n"
      ],
      "text/plain": [
       "+----------+--------------------+--------+-----------+------------------+-------+-----------------+------+------------------+------------------+-----+-------------------+------------------+--------+-----------------+-----------------+-------+-------+-------+--------+------+-------+---------+-------+------+--------+------+-------------+-------------------+------------------+------------------+------------------+------------------+------------------+------------------+------------------+------------------+------------------+------------------+------------------+------------------+------------------+------------------+------------------+------------------+-----------------+------------------+------------------+------------------+-----------------+------------------+------------------+\n",
       "|CodeRégion|              Région|Inscrits|Abstentions|   Abstentions_ins|Votants|      Votants_ins|Blancs|        Blancs_ins|        Blancs_vot| Nuls|           Nuls_ins|          Nuls_vot|Exprimés|     Exprimés_ins|     Exprimés_vot|ARTHAUD|ROUSSEL| MACRON|LASSALLE|LE PEN|ZEMMOUR|MÉLENCHON|HIDALGO| JADOT|PÉCRESSE|POUTOU|DUPONT-AIGNAN|        ARTHAUD.ins|       ROUSSEL.ins|        MACRON.ins|      LASSALLE.ins|        LE PEN.ins|       ZEMMOUR.ins|     MÉLENCHON.ins|       HIDALGO.ins|         JADOT.ins|      PÉCRESSE.ins|        POUTOU.ins| DUPONT-AIGNAN.ins|       ARTHAUD.exp|       ROUSSEL.exp|        MACRON.exp|      LASSALLE.exp|        LE PEN.exp|      ZEMMOUR.exp|     MÉLENCHON.exp|       HIDALGO.exp|         JADOT.exp|     PÉCRESSE.exp|        POUTOU.exp| DUPONT-AIGNAN.exp|\n",
       "+----------+--------------------+--------+-----------+------------------+-------+-----------------+------+------------------+------------------+-----+-------------------+------------------+--------+-----------------+-----------------+-------+-------+-------+--------+------+-------+---------+-------+------+--------+------+-------------+-------------------+------------------+------------------+------------------+------------------+------------------+------------------+------------------+------------------+------------------+------------------+------------------+------------------+------------------+------------------+------------------+------------------+-----------------+------------------+------------------+------------------+-----------------+------------------+------------------+\n",
       "|        44|           Grand Est| 3862920|    1008344| 26.10315512617398|2854576|73.89684487382601| 42255|1.0938616383461215| 1.480254860967093|18647| 0.4827177368415603| 0.653231863506174| 2793674|72.32026549863834|97.86651327552673|  18655|  47422| 762241|   77439|825196| 200256|   492408|  40030|111953|  120917| 22241|        74916|0.48292483406335107| 1.227620556470235| 19.73224917937726|2.0046752197819266|21.361974879106995| 5.184057655866547|12.747041098443665|1.0362627235355637|2.8981444088927546|3.1301968459093126|0.5757561637310635|1.9393619334596626|0.6677586575956965|1.6974779448138904|27.284536420498597|2.7719411785340737|29.538020542124816|7.168195000561985|17.625821767321455| 1.432880142779723| 4.007375234189816|4.328243023344886| 0.796120091320605|2.6816299969144577|\n",
       "|        75|  Nouvelle-Aquitaine| 4463041|     962499|  21.5659905432193|3500542| 78.4340094567807| 53440|1.1973898514488217|1.5266207347319358|27129| 0.6078590808374829|0.7749942723155443| 3419973| 76.6287605244944|97.69838499295253|  18494|  96771| 945122|  201726|779699| 210476|   681218|  77306|151714|  157205| 32597|        67645|0.41438113609084026| 2.168274949748389| 21.17663718527345| 4.519922626747099|17.470128551362176|4.7159772899240675|15.263538918867203|1.7321373476067103|3.3993413907692087| 3.522374094255464|0.7303764406376728| 1.515670593212117|0.5407645031115743|2.8295837423277903|27.635364372759668| 5.898467619481206|22.798396361608702|6.154317592565789|19.918812224540954|2.2604272022030583| 4.436116893320503|4.596673716429925|0.9531361797300739|1.9779395919207547|\n",
       "|        84|Auvergne-Rhône-Alpes| 5557535|    1228490|22.104944008449788|4329045|77.89505599155021| 70067| 1.260756792354884|1.6185324938872199|25512|0.45905243961576486|0.5893216633229731| 4233466|76.17524675957957|97.79214584278981|  23136|  96403|1174972|  136414|943122| 312881|   897349|  77566|224710|  217881| 30586|        98446|0.41629967242671434| 1.734635949211296|21.141963118540865|2.4545774340602446| 16.97014953572042| 5.629852083702577| 16.14652899172025|1.3956907153981037| 4.043339358186678|3.9204611396959264|0.5503519096146043|1.7713968513018812|0.5465025584237597| 2.277164857353289| 27.75437431173417| 3.222276971162636|22.277774287073523|7.390658151028023|21.196556202411923| 1.832210297661538|5.3079438927819425|5.146633987375829|0.7224812954680633|2.3254231875253044|\n",
       "|        27|Bourgogne-Franche...| 1992409|     456682|22.921097023753656|1535727|77.07890297624634| 26392|1.3246276241474517|1.7185346093413738|11621| 0.5832637776681394| 0.756710014214766| 1497714|75.17101157443076|97.52475537644386|  10643|  33932| 394119|   49557|409643| 107057|   277901|  26543| 60235|   76655| 12738|        38691|  0.534177470589623|1.7030639793335607|19.781028895171623|2.4872905111350128|20.560186186671512| 5.373244148164358|13.947989594505946| 1.332206389350781| 3.023224649155871|3.8473526268953813|0.6393265639735617|1.9419205594835196|0.7106163125937262| 2.265586086529204| 26.31470360829905| 3.308842676238587| 27.35121658741255|7.148026926369119| 18.55501117035696|1.7722342182819952| 4.021795883593263| 5.11813336858706|0.8504961561419604|2.5833370055965292|\n",
       "|        53|            Bretagne| 2562061|     543414| 21.21003364088521|2018647| 78.7899663591148| 31884| 1.244466856956177|1.5794737762471596|13245| 0.5169666139877233|0.6561325481869786| 1973518|77.02853288817089|97.76439367556587|  12965|  51193| 647172|   58653|385393|  96984|   407527|  43596|122198|   92808| 19913|        35116| 0.5060379124462688|1.9981179214702538|25.259820121378844| 2.289289755396144| 15.04230383273466|3.7853899653443066|15.906217689586628|1.7015988300044378|4.7695195391522685| 3.622396188068902| 0.777225834982071| 1.370615297606107|0.6569486571695825|2.5939971158104465| 32.79280959180509|  2.97200228221886|19.528223203436706| 4.91426984704472| 20.64977365293856|  2.20905003146665|  6.19188677275809|4.702668027350143|1.0090103054545234|1.7793605125466299|\n",
       "+----------+--------------------+--------+-----------+------------------+-------+-----------------+------+------------------+------------------+-----+-------------------+------------------+--------+-----------------+-----------------+-------+-------+-------+--------+------+-------+---------+-------+------+--------+------+-------------+-------------------+------------------+------------------+------------------+------------------+------------------+------------------+------------------+------------------+------------------+------------------+------------------+------------------+------------------+------------------+------------------+------------------+-----------------+------------------+------------------+------------------+-----------------+------------------+------------------+"
      ]
     },
     "execution_count": 29,
     "metadata": {},
     "output_type": "execute_result"
    }
   ],
   "source": [
    "df_reg.limit(5)"
   ]
  },
  {
   "cell_type": "code",
   "execution_count": 27,
   "metadata": {},
   "outputs": [
    {
     "name": "stdout",
     "output_type": "stream",
     "text": [
      "root\n",
      " |-- CodeDépartement: string (nullable = true)\n",
      " |-- Département: string (nullable = true)\n",
      " |-- Inscrits: integer (nullable = true)\n",
      " |-- Abstentions: integer (nullable = true)\n",
      " |-- Abstentions_ins: double (nullable = true)\n",
      " |-- Votants: integer (nullable = true)\n",
      " |-- Votants_ins: double (nullable = true)\n",
      " |-- Blancs: integer (nullable = true)\n",
      " |-- Blancs_ins: double (nullable = true)\n",
      " |-- Blancs_vot: double (nullable = true)\n",
      " |-- Nuls: integer (nullable = true)\n",
      " |-- Nuls_ins: double (nullable = true)\n",
      " |-- Nuls_vot: double (nullable = true)\n",
      " |-- Exprimés: integer (nullable = true)\n",
      " |-- Exprimés_ins: double (nullable = true)\n",
      " |-- Exprimés_vot: double (nullable = true)\n",
      " |-- ARTHAUD: integer (nullable = true)\n",
      " |-- ROUSSEL: integer (nullable = true)\n",
      " |-- MACRON: integer (nullable = true)\n",
      " |-- LASSALLE: integer (nullable = true)\n",
      " |-- LE PEN: integer (nullable = true)\n",
      " |-- ZEMMOUR: integer (nullable = true)\n",
      " |-- MÉLENCHON: integer (nullable = true)\n",
      " |-- HIDALGO: integer (nullable = true)\n",
      " |-- JADOT: integer (nullable = true)\n",
      " |-- PÉCRESSE: integer (nullable = true)\n",
      " |-- POUTOU: integer (nullable = true)\n",
      " |-- DUPONT-AIGNAN: integer (nullable = true)\n",
      " |-- ARTHAUD.ins: double (nullable = true)\n",
      " |-- ROUSSEL.ins: double (nullable = true)\n",
      " |-- MACRON.ins: double (nullable = true)\n",
      " |-- LASSALLE.ins: double (nullable = true)\n",
      " |-- LE PEN.ins: double (nullable = true)\n",
      " |-- ZEMMOUR.ins: double (nullable = true)\n",
      " |-- MÉLENCHON.ins: double (nullable = true)\n",
      " |-- HIDALGO.ins: double (nullable = true)\n",
      " |-- JADOT.ins: double (nullable = true)\n",
      " |-- PÉCRESSE.ins: double (nullable = true)\n",
      " |-- POUTOU.ins: double (nullable = true)\n",
      " |-- DUPONT-AIGNAN.ins: double (nullable = true)\n",
      " |-- ARTHAUD.exp: double (nullable = true)\n",
      " |-- ROUSSEL.exp: double (nullable = true)\n",
      " |-- MACRON.exp: double (nullable = true)\n",
      " |-- LASSALLE.exp: double (nullable = true)\n",
      " |-- LE PEN.exp: double (nullable = true)\n",
      " |-- ZEMMOUR.exp: double (nullable = true)\n",
      " |-- MÉLENCHON.exp: double (nullable = true)\n",
      " |-- HIDALGO.exp: double (nullable = true)\n",
      " |-- JADOT.exp: double (nullable = true)\n",
      " |-- PÉCRESSE.exp: double (nullable = true)\n",
      " |-- POUTOU.exp: double (nullable = true)\n",
      " |-- DUPONT-AIGNAN.exp: double (nullable = true)\n",
      "\n"
     ]
    }
   ],
   "source": [
    "df_dep.printSchema()"
   ]
  },
  {
   "cell_type": "code",
   "execution_count": 28,
   "metadata": {},
   "outputs": [
    {
     "name": "stdout",
     "output_type": "stream",
     "text": [
      "root\n",
      " |-- CodeRégion: integer (nullable = true)\n",
      " |-- Région: string (nullable = true)\n",
      " |-- Inscrits: integer (nullable = true)\n",
      " |-- Abstentions: integer (nullable = true)\n",
      " |-- Abstentions_ins: double (nullable = true)\n",
      " |-- Votants: integer (nullable = true)\n",
      " |-- Votants_ins: double (nullable = true)\n",
      " |-- Blancs: integer (nullable = true)\n",
      " |-- Blancs_ins: double (nullable = true)\n",
      " |-- Blancs_vot: double (nullable = true)\n",
      " |-- Nuls: integer (nullable = true)\n",
      " |-- Nuls_ins: double (nullable = true)\n",
      " |-- Nuls_vot: double (nullable = true)\n",
      " |-- Exprimés: integer (nullable = true)\n",
      " |-- Exprimés_ins: double (nullable = true)\n",
      " |-- Exprimés_vot: double (nullable = true)\n",
      " |-- ARTHAUD: integer (nullable = true)\n",
      " |-- ROUSSEL: integer (nullable = true)\n",
      " |-- MACRON: integer (nullable = true)\n",
      " |-- LASSALLE: integer (nullable = true)\n",
      " |-- LE PEN: integer (nullable = true)\n",
      " |-- ZEMMOUR: integer (nullable = true)\n",
      " |-- MÉLENCHON: integer (nullable = true)\n",
      " |-- HIDALGO: integer (nullable = true)\n",
      " |-- JADOT: integer (nullable = true)\n",
      " |-- PÉCRESSE: integer (nullable = true)\n",
      " |-- POUTOU: integer (nullable = true)\n",
      " |-- DUPONT-AIGNAN: integer (nullable = true)\n",
      " |-- ARTHAUD.ins: double (nullable = true)\n",
      " |-- ROUSSEL.ins: double (nullable = true)\n",
      " |-- MACRON.ins: double (nullable = true)\n",
      " |-- LASSALLE.ins: double (nullable = true)\n",
      " |-- LE PEN.ins: double (nullable = true)\n",
      " |-- ZEMMOUR.ins: double (nullable = true)\n",
      " |-- MÉLENCHON.ins: double (nullable = true)\n",
      " |-- HIDALGO.ins: double (nullable = true)\n",
      " |-- JADOT.ins: double (nullable = true)\n",
      " |-- PÉCRESSE.ins: double (nullable = true)\n",
      " |-- POUTOU.ins: double (nullable = true)\n",
      " |-- DUPONT-AIGNAN.ins: double (nullable = true)\n",
      " |-- ARTHAUD.exp: double (nullable = true)\n",
      " |-- ROUSSEL.exp: double (nullable = true)\n",
      " |-- MACRON.exp: double (nullable = true)\n",
      " |-- LASSALLE.exp: double (nullable = true)\n",
      " |-- LE PEN.exp: double (nullable = true)\n",
      " |-- ZEMMOUR.exp: double (nullable = true)\n",
      " |-- MÉLENCHON.exp: double (nullable = true)\n",
      " |-- HIDALGO.exp: double (nullable = true)\n",
      " |-- JADOT.exp: double (nullable = true)\n",
      " |-- PÉCRESSE.exp: double (nullable = true)\n",
      " |-- POUTOU.exp: double (nullable = true)\n",
      " |-- DUPONT-AIGNAN.exp: double (nullable = true)\n",
      "\n"
     ]
    }
   ],
   "source": [
    "df_reg.printSchema()"
   ]
  },
  {
   "cell_type": "code",
   "execution_count": 37,
   "metadata": {},
   "outputs": [],
   "source": [
    "# cleaning the dataframe by replacing \".\" by \"_\" to be able to manipulate\n",
    "# the dataframe\n",
    "df_r = df_reg.toDF(*[x.replace(\".\",\"_\") for x in df_reg.columns])"
   ]
  },
  {
   "cell_type": "code",
   "execution_count": 40,
   "metadata": {},
   "outputs": [],
   "source": [
    "# cleaning the dataframe by replacing \".\" by \"_\" to be able to manipulate\n",
    "# the dataframe\n",
    "df_p = df_dep.toDF(*[x.replace(\".\",\"_\") for x in df_reg.columns])"
   ]
  },
  {
   "cell_type": "code",
   "execution_count": 38,
   "metadata": {},
   "outputs": [
    {
     "name": "stdout",
     "output_type": "stream",
     "text": [
      "root\n",
      " |-- CodeRégion: integer (nullable = true)\n",
      " |-- Région: string (nullable = true)\n",
      " |-- Inscrits: integer (nullable = true)\n",
      " |-- Abstentions: integer (nullable = true)\n",
      " |-- Abstentions_ins: double (nullable = true)\n",
      " |-- Votants: integer (nullable = true)\n",
      " |-- Votants_ins: double (nullable = true)\n",
      " |-- Blancs: integer (nullable = true)\n",
      " |-- Blancs_ins: double (nullable = true)\n",
      " |-- Blancs_vot: double (nullable = true)\n",
      " |-- Nuls: integer (nullable = true)\n",
      " |-- Nuls_ins: double (nullable = true)\n",
      " |-- Nuls_vot: double (nullable = true)\n",
      " |-- Exprimés: integer (nullable = true)\n",
      " |-- Exprimés_ins: double (nullable = true)\n",
      " |-- Exprimés_vot: double (nullable = true)\n",
      " |-- ARTHAUD: integer (nullable = true)\n",
      " |-- ROUSSEL: integer (nullable = true)\n",
      " |-- MACRON: integer (nullable = true)\n",
      " |-- LASSALLE: integer (nullable = true)\n",
      " |-- LE PEN: integer (nullable = true)\n",
      " |-- ZEMMOUR: integer (nullable = true)\n",
      " |-- MÉLENCHON: integer (nullable = true)\n",
      " |-- HIDALGO: integer (nullable = true)\n",
      " |-- JADOT: integer (nullable = true)\n",
      " |-- PÉCRESSE: integer (nullable = true)\n",
      " |-- POUTOU: integer (nullable = true)\n",
      " |-- DUPONT-AIGNAN: integer (nullable = true)\n",
      " |-- ARTHAUD_ins: double (nullable = true)\n",
      " |-- ROUSSEL_ins: double (nullable = true)\n",
      " |-- MACRON_ins: double (nullable = true)\n",
      " |-- LASSALLE_ins: double (nullable = true)\n",
      " |-- LE PEN_ins: double (nullable = true)\n",
      " |-- ZEMMOUR_ins: double (nullable = true)\n",
      " |-- MÉLENCHON_ins: double (nullable = true)\n",
      " |-- HIDALGO_ins: double (nullable = true)\n",
      " |-- JADOT_ins: double (nullable = true)\n",
      " |-- PÉCRESSE_ins: double (nullable = true)\n",
      " |-- POUTOU_ins: double (nullable = true)\n",
      " |-- DUPONT-AIGNAN_ins: double (nullable = true)\n",
      " |-- ARTHAUD_exp: double (nullable = true)\n",
      " |-- ROUSSEL_exp: double (nullable = true)\n",
      " |-- MACRON_exp: double (nullable = true)\n",
      " |-- LASSALLE_exp: double (nullable = true)\n",
      " |-- LE PEN_exp: double (nullable = true)\n",
      " |-- ZEMMOUR_exp: double (nullable = true)\n",
      " |-- MÉLENCHON_exp: double (nullable = true)\n",
      " |-- HIDALGO_exp: double (nullable = true)\n",
      " |-- JADOT_exp: double (nullable = true)\n",
      " |-- PÉCRESSE_exp: double (nullable = true)\n",
      " |-- POUTOU_exp: double (nullable = true)\n",
      " |-- DUPONT-AIGNAN_exp: double (nullable = true)\n",
      "\n"
     ]
    }
   ],
   "source": [
    "# verifying that the changes were applied\n",
    "df_r.printSchema()"
   ]
  },
  {
   "cell_type": "code",
   "execution_count": 41,
   "metadata": {},
   "outputs": [
    {
     "name": "stdout",
     "output_type": "stream",
     "text": [
      "root\n",
      " |-- CodeRégion: string (nullable = true)\n",
      " |-- Région: string (nullable = true)\n",
      " |-- Inscrits: integer (nullable = true)\n",
      " |-- Abstentions: integer (nullable = true)\n",
      " |-- Abstentions_ins: double (nullable = true)\n",
      " |-- Votants: integer (nullable = true)\n",
      " |-- Votants_ins: double (nullable = true)\n",
      " |-- Blancs: integer (nullable = true)\n",
      " |-- Blancs_ins: double (nullable = true)\n",
      " |-- Blancs_vot: double (nullable = true)\n",
      " |-- Nuls: integer (nullable = true)\n",
      " |-- Nuls_ins: double (nullable = true)\n",
      " |-- Nuls_vot: double (nullable = true)\n",
      " |-- Exprimés: integer (nullable = true)\n",
      " |-- Exprimés_ins: double (nullable = true)\n",
      " |-- Exprimés_vot: double (nullable = true)\n",
      " |-- ARTHAUD: integer (nullable = true)\n",
      " |-- ROUSSEL: integer (nullable = true)\n",
      " |-- MACRON: integer (nullable = true)\n",
      " |-- LASSALLE: integer (nullable = true)\n",
      " |-- LE PEN: integer (nullable = true)\n",
      " |-- ZEMMOUR: integer (nullable = true)\n",
      " |-- MÉLENCHON: integer (nullable = true)\n",
      " |-- HIDALGO: integer (nullable = true)\n",
      " |-- JADOT: integer (nullable = true)\n",
      " |-- PÉCRESSE: integer (nullable = true)\n",
      " |-- POUTOU: integer (nullable = true)\n",
      " |-- DUPONT-AIGNAN: integer (nullable = true)\n",
      " |-- ARTHAUD_ins: double (nullable = true)\n",
      " |-- ROUSSEL_ins: double (nullable = true)\n",
      " |-- MACRON_ins: double (nullable = true)\n",
      " |-- LASSALLE_ins: double (nullable = true)\n",
      " |-- LE PEN_ins: double (nullable = true)\n",
      " |-- ZEMMOUR_ins: double (nullable = true)\n",
      " |-- MÉLENCHON_ins: double (nullable = true)\n",
      " |-- HIDALGO_ins: double (nullable = true)\n",
      " |-- JADOT_ins: double (nullable = true)\n",
      " |-- PÉCRESSE_ins: double (nullable = true)\n",
      " |-- POUTOU_ins: double (nullable = true)\n",
      " |-- DUPONT-AIGNAN_ins: double (nullable = true)\n",
      " |-- ARTHAUD_exp: double (nullable = true)\n",
      " |-- ROUSSEL_exp: double (nullable = true)\n",
      " |-- MACRON_exp: double (nullable = true)\n",
      " |-- LASSALLE_exp: double (nullable = true)\n",
      " |-- LE PEN_exp: double (nullable = true)\n",
      " |-- ZEMMOUR_exp: double (nullable = true)\n",
      " |-- MÉLENCHON_exp: double (nullable = true)\n",
      " |-- HIDALGO_exp: double (nullable = true)\n",
      " |-- JADOT_exp: double (nullable = true)\n",
      " |-- PÉCRESSE_exp: double (nullable = true)\n",
      " |-- POUTOU_exp: double (nullable = true)\n",
      " |-- DUPONT-AIGNAN_exp: double (nullable = true)\n",
      "\n"
     ]
    }
   ],
   "source": [
    "# verifying that the changes were applied\n",
    "df_p.printSchema()"
   ]
  },
  {
   "cell_type": "code",
   "execution_count": 39,
   "metadata": {},
   "outputs": [
    {
     "name": "stdout",
     "output_type": "stream",
     "text": [
      "+----------+------+--------+-----------+---------------+-------+-----------+------+----------+----------+----+--------+--------+--------+------------+------------+-------+-------+------+--------+------+-------+---------+-------+-----+--------+------+-------------+-----------+-----------+----------+------------+----------+-----------+-------------+-----------+---------+------------+----------+-----------------+-----------+-----------+----------+------------+----------+-----------+-------------+-----------+---------+------------+----------+-----------------+\n",
      "|CodeRégion|Région|Inscrits|Abstentions|Abstentions_ins|Votants|Votants_ins|Blancs|Blancs_ins|Blancs_vot|Nuls|Nuls_ins|Nuls_vot|Exprimés|Exprimés_ins|Exprimés_vot|ARTHAUD|ROUSSEL|MACRON|LASSALLE|LE PEN|ZEMMOUR|MÉLENCHON|HIDALGO|JADOT|PÉCRESSE|POUTOU|DUPONT-AIGNAN|ARTHAUD_ins|ROUSSEL_ins|MACRON_ins|LASSALLE_ins|LE PEN_ins|ZEMMOUR_ins|MÉLENCHON_ins|HIDALGO_ins|JADOT_ins|PÉCRESSE_ins|POUTOU_ins|DUPONT-AIGNAN_ins|ARTHAUD_exp|ROUSSEL_exp|MACRON_exp|LASSALLE_exp|LE PEN_exp|ZEMMOUR_exp|MÉLENCHON_exp|HIDALGO_exp|JADOT_exp|PÉCRESSE_exp|POUTOU_exp|DUPONT-AIGNAN_exp|\n",
      "+----------+------+--------+-----------+---------------+-------+-----------+------+----------+----------+----+--------+--------+--------+------------+------------+-------+-------+------+--------+------+-------+---------+-------+-----+--------+------+-------------+-----------+-----------+----------+------------+----------+-----------+-------------+-----------+---------+------------+----------+-----------------+-----------+-----------+----------+------------+----------+-----------+-------------+-----------+---------+------------+----------+-----------------+\n",
      "|         0|     0|       0|          0|              0|      0|          0|     0|         0|         0|   0|       0|       0|       0|           0|           0|      0|      0|     0|       0|     0|      0|        0|      0|    0|       0|     0|            0|          0|          0|         0|           0|         0|          0|            0|          0|        0|           0|         0|                0|          0|          0|         0|           0|         0|          0|            0|          0|        0|           0|         0|                0|\n",
      "+----------+------+--------+-----------+---------------+-------+-----------+------+----------+----------+----+--------+--------+--------+------------+------------+-------+-------+------+--------+------+-------+---------+-------+-----+--------+------+-------------+-----------+-----------+----------+------------+----------+-----------+-------------+-----------+---------+------------+----------+-----------------+-----------+-----------+----------+------------+----------+-----------+-------------+-----------+---------+------------+----------+-----------------+\n",
      "\n"
     ]
    }
   ],
   "source": [
    "\n",
    "# Find Count of missing values in the regional votes dataframes\n",
    "from pyspark.sql.functions import col,isnan,when,count\n",
    "df2 = df_r.select([count(when(col(c).contains('None') | \\\n",
    "                            col(c).contains('NULL') | \\\n",
    "                            (col(c) == '' ) | \\\n",
    "                            col(c).isNull() | \\\n",
    "                            isnan(c), c \n",
    "                           )).alias(c)\n",
    "                    for c in df_r.columns])\n",
    "df2.show()"
   ]
  },
  {
   "cell_type": "code",
   "execution_count": 42,
   "metadata": {},
   "outputs": [
    {
     "name": "stdout",
     "output_type": "stream",
     "text": [
      "+----------+------+--------+-----------+---------------+-------+-----------+------+----------+----------+----+--------+--------+--------+------------+------------+-------+-------+------+--------+------+-------+---------+-------+-----+--------+------+-------------+-----------+-----------+----------+------------+----------+-----------+-------------+-----------+---------+------------+----------+-----------------+-----------+-----------+----------+------------+----------+-----------+-------------+-----------+---------+------------+----------+-----------------+\n",
      "|CodeRégion|Région|Inscrits|Abstentions|Abstentions_ins|Votants|Votants_ins|Blancs|Blancs_ins|Blancs_vot|Nuls|Nuls_ins|Nuls_vot|Exprimés|Exprimés_ins|Exprimés_vot|ARTHAUD|ROUSSEL|MACRON|LASSALLE|LE PEN|ZEMMOUR|MÉLENCHON|HIDALGO|JADOT|PÉCRESSE|POUTOU|DUPONT-AIGNAN|ARTHAUD_ins|ROUSSEL_ins|MACRON_ins|LASSALLE_ins|LE PEN_ins|ZEMMOUR_ins|MÉLENCHON_ins|HIDALGO_ins|JADOT_ins|PÉCRESSE_ins|POUTOU_ins|DUPONT-AIGNAN_ins|ARTHAUD_exp|ROUSSEL_exp|MACRON_exp|LASSALLE_exp|LE PEN_exp|ZEMMOUR_exp|MÉLENCHON_exp|HIDALGO_exp|JADOT_exp|PÉCRESSE_exp|POUTOU_exp|DUPONT-AIGNAN_exp|\n",
      "+----------+------+--------+-----------+---------------+-------+-----------+------+----------+----------+----+--------+--------+--------+------------+------------+-------+-------+------+--------+------+-------+---------+-------+-----+--------+------+-------------+-----------+-----------+----------+------------+----------+-----------+-------------+-----------+---------+------------+----------+-----------------+-----------+-----------+----------+------------+----------+-----------+-------------+-----------+---------+------------+----------+-----------------+\n",
      "|         0|     0|       0|          0|              0|      0|          0|     0|         0|         0|   0|       0|       0|       0|           0|           0|      0|      0|     0|       0|     0|      0|        0|      0|    0|       0|     0|            0|          0|          0|         0|           0|         0|          0|            0|          0|        0|           0|         0|                0|          0|          0|         0|           0|         0|          0|            0|          0|        0|           0|         0|                0|\n",
      "+----------+------+--------+-----------+---------------+-------+-----------+------+----------+----------+----+--------+--------+--------+------------+------------+-------+-------+------+--------+------+-------+---------+-------+-----+--------+------+-------------+-----------+-----------+----------+------------+----------+-----------+-------------+-----------+---------+------------+----------+-----------------+-----------+-----------+----------+------------+----------+-----------+-------------+-----------+---------+------------+----------+-----------------+\n",
      "\n"
     ]
    }
   ],
   "source": [
    "\n",
    "# Find Count of missing values in the departemental votes dataframes\n",
    "from pyspark.sql.functions import col,isnan,when,count\n",
    "df3 = df_p.select([count(when(col(c).contains('None') | \\\n",
    "                            col(c).contains('NULL') | \\\n",
    "                            (col(c) == '' ) | \\\n",
    "                            col(c).isNull() | \\\n",
    "                            isnan(c), c \n",
    "                           )).alias(c)\n",
    "                    for c in df_p.columns])\n",
    "df3.show()"
   ]
  },
  {
   "attachments": {},
   "cell_type": "markdown",
   "metadata": {},
   "source": [
    "We observe that the are no missing values and the dataframes are well defined"
   ]
  },
  {
   "cell_type": "code",
   "execution_count": null,
   "metadata": {},
   "outputs": [],
   "source": []
  }
 ],
 "metadata": {
  "kernelspec": {
   "display_name": "Python 3",
   "language": "python",
   "name": "python3"
  },
  "language_info": {
   "codemirror_mode": {
    "name": "ipython",
    "version": 3
   },
   "file_extension": ".py",
   "mimetype": "text/x-python",
   "name": "python",
   "nbconvert_exporter": "python",
   "pygments_lexer": "ipython3",
   "version": "3.8.10 (default, Nov 14 2022, 12:59:47) \n[GCC 9.4.0]"
  },
  "orig_nbformat": 4,
  "vscode": {
   "interpreter": {
    "hash": "916dbcbb3f70747c44a77c7bcd40155683ae19c65e1c03b4aa3499c5328201f1"
   }
  }
 },
 "nbformat": 4,
 "nbformat_minor": 2
}
